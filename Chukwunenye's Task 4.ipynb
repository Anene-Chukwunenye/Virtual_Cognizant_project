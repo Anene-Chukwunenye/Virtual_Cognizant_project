{
 "cells": [
  {
   "cell_type": "code",
   "execution_count": 1,
   "id": "e39931da",
   "metadata": {},
   "outputs": [],
   "source": [
    "import pandas as pd\n",
    "from sklearn.model_selection import train_test_split\n",
    "from sklearn import preprocessing\n",
    "from sklearn.preprocessing import StandardScaler\n",
    "from sklearn.linear_model import LinearRegression\n",
    "from sklearn.ensemble import RandomForestRegressor\n",
    "import numpy as np\n",
    "from sklearn import metrics\n",
    "from sklearn.metrics import mean_squared_error\n",
    "from sklearn.metrics import mean_absolute_error\n",
    "from sklearn.metrics import mean_absolute_error\n",
    "from datetime import datetime\n",
    "import math"
   ]
  },
  {
   "cell_type": "markdown",
   "id": "178f34f3",
   "metadata": {},
   "source": [
    "## loading of data"
   ]
  },
  {
   "cell_type": "code",
   "execution_count": 2,
   "id": "859c86b2",
   "metadata": {},
   "outputs": [],
   "source": [
    "data1=pd.read_csv('sales.csv')\n",
    "data2=pd.read_csv('sensor_stock_levels.csv')\n",
    "data3=pd.read_csv('sensor_storage_temperature.csv')"
   ]
  },
  {
   "cell_type": "code",
   "execution_count": 3,
   "id": "a623445e",
   "metadata": {},
   "outputs": [],
   "source": [
    "data1.drop(columns=['Unnamed: 0'],axis=0,inplace=True)\n",
    "data2.drop(columns=['Unnamed: 0'],axis=0,inplace=True)\n",
    "data3.drop(columns=['Unnamed: 0'],axis=0,inplace=True)"
   ]
  },
  {
   "cell_type": "markdown",
   "id": "4815f274",
   "metadata": {},
   "source": [
    "## converting timeframe"
   ]
  },
  {
   "cell_type": "code",
   "execution_count": 4,
   "id": "77e0f3cc",
   "metadata": {},
   "outputs": [],
   "source": [
    "# created a function to convert timeframe into an object\n",
    "def time_converter(data:pd.DataFrame= None, column: str = None):\n",
    "    df=pd.to_datetime(data['timestamp'],format=\"%Y-%m-%d %H:%M:%S\")\n",
    "    data[column]=df\n",
    "    \n",
    "    return "
   ]
  },
  {
   "cell_type": "code",
   "execution_count": 5,
   "id": "7d2872e8",
   "metadata": {},
   "outputs": [],
   "source": [
    "time_converter(data1,'timestamp')\n",
    "time_converter(data2,'timestamp')\n",
    "time_converter(data3,'timestamp')"
   ]
  },
  {
   "cell_type": "code",
   "execution_count": 6,
   "id": "fb535207",
   "metadata": {},
   "outputs": [],
   "source": [
    "# created a function to remove the minute and second from the timeframe\n",
    "def convert_timestamp_to_hourly(data: pd.DataFrame = None, column: str = None):\n",
    "  dummy = data.copy()\n",
    "  new_ts = dummy[column]\n",
    "  new_ts = [i.strftime('%Y-%m-%d %H:00:00') for i in new_ts]\n",
    "  new_ts = [datetime.strptime(i, '%Y-%m-%d %H:00:00') for i in new_ts]\n",
    "  dummy[column] = new_ts\n",
    "  return dummy"
   ]
  },
  {
   "cell_type": "code",
   "execution_count": 7,
   "id": "37bfbfbc",
   "metadata": {},
   "outputs": [],
   "source": [
    "data1=convert_timestamp_to_hourly(data1,'timestamp')\n",
    "data2=convert_timestamp_to_hourly(data2,'timestamp')\n",
    "data3=convert_timestamp_to_hourly(data3,'timestamp')"
   ]
  },
  {
   "cell_type": "markdown",
   "id": "611fa283",
   "metadata": {},
   "source": [
    "## merging the datasets into one"
   ]
  },
  {
   "cell_type": "code",
   "execution_count": 8,
   "id": "a35d2477",
   "metadata": {},
   "outputs": [],
   "source": [
    "salesg=data1.groupby(['timestamp','product_id']).agg({'quantity': 'sum'}).reset_index()\n",
    "stockg=data2.groupby(['timestamp','product_id']).agg({'estimated_stock_pct':'mean'}).reset_index()\n",
    "tempg=data3.groupby(['timestamp']).agg({'temperature':'mean'}).reset_index()"
   ]
  },
  {
   "cell_type": "code",
   "execution_count": 9,
   "id": "26d930f7",
   "metadata": {},
   "outputs": [],
   "source": [
    "data_m1=pd.merge (salesg, stockg,how='right',on=['timestamp','product_id'])\n",
    "data_m2= pd.merge(data_m1,tempg, how='left',on= 'timestamp')\n",
    "data_m2['quantity']=data_m2['quantity'].fillna(0)\n",
    "prod_cat=data1[['product_id','unit_price','category']]\n",
    "prod_cat=prod_cat.drop_duplicates()\n",
    "data_m3= pd.merge(data_m2,prod_cat, on='product_id',how='left')"
   ]
  },
  {
   "cell_type": "markdown",
   "id": "1130c33b",
   "metadata": {},
   "source": [
    "## Feature Engineering"
   ]
  },
  {
   "cell_type": "code",
   "execution_count": 10,
   "id": "02bad82a",
   "metadata": {},
   "outputs": [],
   "source": [
    "data_m3['timestamp_day_of_month'] = data_m3['timestamp'].dt.day\n",
    "data_m3['timestamp_day_of_week'] = data_m3['timestamp'].dt.dayofweek\n",
    "data_m3['timestamp_hour'] = data_m3['timestamp'].dt.hour\n",
    "data_m3.drop(columns=['timestamp'], inplace=True)\n",
    "data_m3=pd.get_dummies(data_m3,columns=['category'])\n",
    "data_m3.drop(columns=['product_id'],axis=0,inplace=True)"
   ]
  },
  {
   "cell_type": "markdown",
   "id": "cc578738",
   "metadata": {},
   "source": [
    "## assigning the target and independent variables"
   ]
  },
  {
   "cell_type": "code",
   "execution_count": 11,
   "id": "14034777",
   "metadata": {},
   "outputs": [],
   "source": [
    "y=data_m3['estimated_stock_pct']\n",
    "x=data_m3.drop(columns=['estimated_stock_pct'],axis=0)"
   ]
  },
  {
   "cell_type": "markdown",
   "id": "458c10b4",
   "metadata": {},
   "source": [
    "## Machine Learning Model"
   ]
  },
  {
   "cell_type": "code",
   "execution_count": 12,
   "id": "cf74bcf8",
   "metadata": {},
   "outputs": [],
   "source": [
    "x_train, x_test, y_train,y_test= train_test_split(x,y,test_size=0.20, random_state=2) \n",
    "s=StandardScaler()\n",
    "s.fit_transform(x_train,y_train)\n",
    "x_test=s.transform(x_test)"
   ]
  },
  {
   "cell_type": "code",
   "execution_count": 13,
   "id": "15f9fc03",
   "metadata": {},
   "outputs": [],
   "source": [
    "# LinearRegresion model\n",
    "lr=LinearRegression()\n",
    "mod=lr.fit(x_train,y_train)\n",
    "pred=mod.predict(x_test)"
   ]
  },
  {
   "cell_type": "code",
   "execution_count": 14,
   "id": "bf77c8db",
   "metadata": {},
   "outputs": [],
   "source": [
    "#RandomForestRegressor model\n",
    "model = RandomForestRegressor()\n",
    "mod2=model.fit(x_train,y_train)\n",
    "pred2=mod2.predict(x_test)"
   ]
  },
  {
   "cell_type": "markdown",
   "id": "fb948d7f",
   "metadata": {},
   "source": [
    "## Accuracy Check"
   ]
  },
  {
   "cell_type": "code",
   "execution_count": 15,
   "id": "faab3e39",
   "metadata": {},
   "outputs": [
    {
     "name": "stdout",
     "output_type": "stream",
     "text": [
      "The metrics score of the LinearRegression model\n",
      "mse: 1.1335835369421424e+20\n",
      "rmse: 10646988010.428782\n",
      "mae 10515889022.818163\n"
     ]
    }
   ],
   "source": [
    "print ('The metrics score of the LinearRegression model')\n",
    "print('mse:',mean_squared_error(y_test, pred))\n",
    "print('rmse:',math.sqrt(mean_squared_error(y_test, pred)))\n",
    "print('mae', mean_absolute_error(y_test, pred))"
   ]
  },
  {
   "cell_type": "code",
   "execution_count": 16,
   "id": "9f18bcc9",
   "metadata": {},
   "outputs": [
    {
     "name": "stdout",
     "output_type": "stream",
     "text": [
      "The metrics score of the RandomForestRegressor model\n",
      "mse: 0.07534974584629456\n",
      "rmse: 0.2744990816857036\n",
      "mae: 0.23123996981272915\n"
     ]
    }
   ],
   "source": [
    "print('The metrics score of the RandomForestRegressor model')\n",
    "print('mse:',mean_squared_error(y_test, pred2))\n",
    "print('rmse:',math.sqrt(mean_squared_error(y_test, pred2)))\n",
    "print('mae:',mean_absolute_error(y_test, pred2))"
   ]
  }
 ],
 "metadata": {
  "kernelspec": {
   "display_name": "Python 3 (ipykernel)",
   "language": "python",
   "name": "python3"
  },
  "language_info": {
   "codemirror_mode": {
    "name": "ipython",
    "version": 3
   },
   "file_extension": ".py",
   "mimetype": "text/x-python",
   "name": "python",
   "nbconvert_exporter": "python",
   "pygments_lexer": "ipython3",
   "version": "3.9.7"
  }
 },
 "nbformat": 4,
 "nbformat_minor": 5
}
